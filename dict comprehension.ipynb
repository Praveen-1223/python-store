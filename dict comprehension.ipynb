{
 "cells": [
  {
   "cell_type": "code",
   "execution_count": 1,
   "id": "ad73ea40-b126-4272-afae-ff11eca9b300",
   "metadata": {},
   "outputs": [
    {
     "name": "stdout",
     "output_type": "stream",
     "text": [
      "{0: 0, 1: 1, 2: 4, 3: 9, 4: 16}\n"
     ]
    }
   ],
   "source": [
    "sqr={x:x**2 for x in range(5)}\n",
    "print(sqr)"
   ]
  },
  {
   "cell_type": "code",
   "execution_count": 5,
   "id": "9f2408ba-0c92-460f-99cd-d5b1cda76f56",
   "metadata": {},
   "outputs": [
    {
     "name": "stdout",
     "output_type": "stream",
     "text": [
      "{0: 0, 1: 1, 2: 8, 3: 27, 4: 64, 5: 125, 6: 216, 7: 343, 8: 512, 9: 729}\n"
     ]
    }
   ],
   "source": [
    "cubes={x:x**3 for x in range(10) }\n",
    "print(cubes)"
   ]
  },
  {
   "cell_type": "code",
   "execution_count": 7,
   "id": "7c8603f5-b2b0-4cfd-b24b-d63c77e85431",
   "metadata": {},
   "outputs": [
    {
     "name": "stdout",
     "output_type": "stream",
     "text": [
      "{0: 0, 2: 8, 4: 64, 6: 216, 8: 512}\n"
     ]
    }
   ],
   "source": [
    "cubes={x:x**3 for x in range(10) if x%2==0}\n",
    "print(cubes)"
   ]
  },
  {
   "cell_type": "code",
   "execution_count": 9,
   "id": "00aa237f-fb7a-406a-bde9-884bd5fff97d",
   "metadata": {},
   "outputs": [
    {
     "name": "stdout",
     "output_type": "stream",
     "text": [
      "{'a': 11, 'b': 22, 'c': 33}\n"
     ]
    }
   ],
   "source": [
    "keys=[\"a\",\"b\",\"c\"]\n",
    "values=[11,22,33]\n",
    "dict={keys[i]:values[i]for i in range(len(keys))}\n",
    "print(dict)"
   ]
  },
  {
   "cell_type": "code",
   "execution_count": 11,
   "id": "aa90ed95-8abf-4b31-8029-003541a7a034",
   "metadata": {},
   "outputs": [
    {
     "name": "stdout",
     "output_type": "stream",
     "text": [
      "{1: 'a', 2: 'b', 3: 'c'}\n"
     ]
    }
   ],
   "source": [
    "original={\"a\":1,\"b\":2,\"c\":3}\n",
    "swapped={v:k for k,v in original.items()}\n",
    "print(swapped)"
   ]
  },
  {
   "cell_type": "code",
   "execution_count": 13,
   "id": "69d0038e-397e-4d2b-a29c-af8223f67dd0",
   "metadata": {},
   "outputs": [
    {
     "name": "stdout",
     "output_type": "stream",
     "text": [
      "{'b': 6, 'd': 10}\n"
     ]
    }
   ],
   "source": [
    "original = {'a': 1, 'b': 6, 'c': 3,'d':10}\n",
    "filtered={k:v for k,v in original.items() if v>=5}\n",
    "print(filtered)"
   ]
  },
  {
   "cell_type": "code",
   "execution_count": 15,
   "id": "32d412e4-2c4d-42d1-a5ba-727e941d1aac",
   "metadata": {},
   "outputs": [
    {
     "name": "stdout",
     "output_type": "stream",
     "text": [
      "{'a': 10, 'b': 20, 'c': 30}\n"
     ]
    }
   ],
   "source": [
    "#transformation.\n",
    "original={\"a\":1,\"b\":2,\"c\":3}\n",
    "transformed={k:v*10 for k,v in original.items()}\n",
    "print(transformed)"
   ]
  },
  {
   "cell_type": "code",
   "execution_count": 19,
   "id": "b462ca1b-5dd6-431a-8e7e-3ded559f01bd",
   "metadata": {},
   "outputs": [
    {
     "name": "stdout",
     "output_type": "stream",
     "text": [
      "{1: {'sqr': 1, 'cube': 1}, 2: {'sqr': 4, 'cube': 8}, 3: {'sqr': 9, 'cube': 27}, 4: {'sqr': 16, 'cube': 64}, 5: {'sqr': 25, 'cube': 125}, 6: {'sqr': 36, 'cube': 216}, 7: {'sqr': 49, 'cube': 343}}\n"
     ]
    }
   ],
   "source": [
    "#nested \n",
    "numbers=[1,2,3,4,5,6,7]\n",
    "nest={x:{\"sqr\":x**2,\"cube\":x**3}for x in numbers}\n",
    "print(nest)\n"
   ]
  },
  {
   "cell_type": "code",
   "execution_count": 29,
   "id": "679681d7-44fe-4a9c-807e-7f5f413f56fb",
   "metadata": {},
   "outputs": [
    {
     "name": "stdout",
     "output_type": "stream",
     "text": [
      "{'a': 1, 'c': 3}\n"
     ]
    }
   ],
   "source": [
    "key=[\"a\",\"b\",\"c\",\"d\"]\n",
    "values=[1,2,3,4]\n",
    "dic={key[i]:values[i] for i in range(len(key)) if i%2==0}\n",
    "print(dic)"
   ]
  },
  {
   "cell_type": "code",
   "execution_count": 33,
   "id": "7b4203cf-e83e-4eba-b992-7c1706302c09",
   "metadata": {},
   "outputs": [
    {
     "name": "stdout",
     "output_type": "stream",
     "text": [
      "{'a': 1, 'b': 2, 'c': 3}\n"
     ]
    }
   ],
   "source": [
    "tuple=[(\"a\",1),(\"b\",2),(\"c\",3)]\n",
    "my_dict={key:value for key,value in tuple}\n",
    "print(my_dict)"
   ]
  },
  {
   "cell_type": "code",
   "execution_count": 35,
   "id": "11dd53c5-b38c-4e64-a444-63fa205a04f1",
   "metadata": {},
   "outputs": [
    {
     "name": "stdout",
     "output_type": "stream",
     "text": [
      "{'a': 1, 'b': 2, 'c': 3, 'd': 0}\n"
     ]
    }
   ],
   "source": [
    "values=[1,2,3]\n",
    "keys=[\"a\",\"b\",\"c\",\"d\"]\n",
    "my_dict={k:values[i]if i<len(values)else 0 for i ,k in enumerate(keys)}\n",
    "print(my_dict)"
   ]
  },
  {
   "cell_type": "code",
   "execution_count": null,
   "id": "e7618468-9e36-44dc-a2b4-4f7a6d41d7e7",
   "metadata": {},
   "outputs": [],
   "source": []
  }
 ],
 "metadata": {
  "kernelspec": {
   "display_name": "Python 3 (ipykernel)",
   "language": "python",
   "name": "python3"
  },
  "language_info": {
   "codemirror_mode": {
    "name": "ipython",
    "version": 3
   },
   "file_extension": ".py",
   "mimetype": "text/x-python",
   "name": "python",
   "nbconvert_exporter": "python",
   "pygments_lexer": "ipython3",
   "version": "3.12.4"
  }
 },
 "nbformat": 4,
 "nbformat_minor": 5
}
