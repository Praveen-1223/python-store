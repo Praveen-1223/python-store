{
 "cells": [
  {
   "cell_type": "code",
   "execution_count": 1,
   "id": "36806734-361d-44cf-aa4d-c937cd83beb1",
   "metadata": {},
   "outputs": [
    {
     "name": "stdout",
     "output_type": "stream",
     "text": [
      "{1: 'hai', 2: 'hello', 3: 'how are you'}\n"
     ]
    }
   ],
   "source": [
    "dict={1:\"hai\",2:\"hello\",3:\"how are you\"}\n",
    "print(dict)"
   ]
  },
  {
   "cell_type": "code",
   "execution_count": 7,
   "id": "e2f48dcd-d196-40aa-9ab2-9ec7668517e4",
   "metadata": {},
   "outputs": [
    {
     "data": {
      "text/plain": [
       "{1: (1, 2, 3, 4), 'hai': 'hello', 'haii': [1, 2]}"
      ]
     },
     "execution_count": 7,
     "metadata": {},
     "output_type": "execute_result"
    }
   ],
   "source": [
    "dic={1:(1,2,3,4),\"hai\":\"hello\",\"haii\":[1,2]}\n",
    "dic"
   ]
  },
  {
   "cell_type": "code",
   "execution_count": 11,
   "id": "b33b3c4a-e0b0-47d2-9ac2-d1bbe677e280",
   "metadata": {},
   "outputs": [
    {
     "name": "stdout",
     "output_type": "stream",
     "text": [
      "{0: 'apple', 1: 'heart', 2: 'work', 'new_set': (1, 5, 8)}\n"
     ]
    }
   ],
   "source": [
    "#adding values to the dictionary\n",
    "dic={}\n",
    "dic[0]=\"apple\"\n",
    "dic[1]=\"heart\"\n",
    "dic[2]=\"work\"\n",
    "dic[\"new_set\"]=1,5,8\n",
    "print(dic)"
   ]
  },
  {
   "cell_type": "code",
   "execution_count": 15,
   "id": "ff0fc931-37f8-4c3f-bbe3-17c4b92fe8ea",
   "metadata": {},
   "outputs": [
    {
     "name": "stdout",
     "output_type": "stream",
     "text": [
      "(1, 5, 8)\n",
      "hard\n"
     ]
    }
   ],
   "source": [
    "#accessing elements using get()\n",
    "dic={0:\"apple\",1:\"hard\",2:\"work\",\"new_set\":(1,5,8)}\n",
    "print(dic.get(\"new_set\"))\n",
    "print(dic.get(1))"
   ]
  },
  {
   "cell_type": "code",
   "execution_count": null,
   "id": "09f66496-4de8-4d0e-87c8-ab6880da7153",
   "metadata": {},
   "outputs": [],
   "source": []
  }
 ],
 "metadata": {
  "kernelspec": {
   "display_name": "Python 3 (ipykernel)",
   "language": "python",
   "name": "python3"
  },
  "language_info": {
   "codemirror_mode": {
    "name": "ipython",
    "version": 3
   },
   "file_extension": ".py",
   "mimetype": "text/x-python",
   "name": "python",
   "nbconvert_exporter": "python",
   "pygments_lexer": "ipython3",
   "version": "3.12.4"
  }
 },
 "nbformat": 4,
 "nbformat_minor": 5
}
