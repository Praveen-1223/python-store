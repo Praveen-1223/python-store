{
 "cells": [
  {
   "cell_type": "code",
   "execution_count": 5,
   "id": "29bf911d-2775-4288-8e3a-264d0c623eb0",
   "metadata": {},
   "outputs": [
    {
     "name": "stdout",
     "output_type": "stream",
     "text": [
      "False\n",
      "False\n",
      "False\n"
     ]
    }
   ],
   "source": [
    "month1={\"Jan\",\"Feb\",\"Mar\",\"Apr\",\"May\",\"Jun\",\"Aug\",\"Nov\"}\n",
    "month2={\"Jul\",\"Aug\",\"Sept\",\"Oct\",\"Nov\",\"Dec\"}\n",
    "print(month1>month2)\n",
    "print(month1>month2)\n",
    "print(month1==month2)\n"
   ]
  },
  {
   "cell_type": "code",
   "execution_count": null,
   "id": "d6d2312a-7f23-463d-926a-3ec94204600f",
   "metadata": {},
   "outputs": [],
   "source": [
    "#explain the frozen set in python "
   ]
  }
 ],
 "metadata": {
  "kernelspec": {
   "display_name": "Python 3 (ipykernel)",
   "language": "python",
   "name": "python3"
  },
  "language_info": {
   "codemirror_mode": {
    "name": "ipython",
    "version": 3
   },
   "file_extension": ".py",
   "mimetype": "text/x-python",
   "name": "python",
   "nbconvert_exporter": "python",
   "pygments_lexer": "ipython3",
   "version": "3.12.4"
  }
 },
 "nbformat": 4,
 "nbformat_minor": 5
}
