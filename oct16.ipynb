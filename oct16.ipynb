{
 "cells": [
  {
   "cell_type": "code",
   "execution_count": 1,
   "id": "22510e45-a402-4e7d-a6b8-b6835a8a1bd7",
   "metadata": {},
   "outputs": [
    {
     "name": "stdin",
     "output_type": "stream",
     "text": [
      " hello\n",
      " HELLO\n"
     ]
    },
    {
     "name": "stdout",
     "output_type": "stream",
     "text": [
      "strings are not same\n"
     ]
    }
   ],
   "source": [
    "x=str(input())\n",
    "y=str(input())\n",
    "if x==y:\n",
    "    print(\"strings are same\")\n",
    "else:\n",
    "    print(\"strings are not same\")"
   ]
  },
  {
   "cell_type": "code",
   "execution_count": 3,
   "id": "6cb405e9-aa57-4ee3-bbd8-ab6790d00856",
   "metadata": {},
   "outputs": [
    {
     "name": "stdin",
     "output_type": "stream",
     "text": [
      " 14\n"
     ]
    },
    {
     "name": "stdout",
     "output_type": "stream",
     "text": [
      "It is multiple of 7\n"
     ]
    }
   ],
   "source": [
    "x=int(input())\n",
    "if x%7==0:\n",
    "    print(\"It is multiple of 7\")\n",
    "else:\n",
    "    print(\"No\")"
   ]
  },
  {
   "cell_type": "code",
   "execution_count": 27,
   "id": "b8e50c8c-0731-48c9-880c-a2439fd630b0",
   "metadata": {},
   "outputs": [
    {
     "name": "stdin",
     "output_type": "stream",
     "text": [
      " 10\n",
      " 7\n",
      " 7\n"
     ]
    },
    {
     "name": "stdout",
     "output_type": "stream",
     "text": [
      "yes\n"
     ]
    }
   ],
   "source": [
    "l=int(input())\n",
    "n=int(input())\n",
    "r=int(input())\n",
    "\n",
    "if l>r:\n",
    "    l,r=r,l\n",
    "if l<= n <=r: #1 2 3\n",
    "  print(\"yes\")\n",
    "else:\n",
    "  print(\"no\")"
   ]
  },
  {
   "cell_type": "code",
   "execution_count": 29,
   "id": "f90a5ba7-3fe3-4437-9ddf-b1f592f98868",
   "metadata": {},
   "outputs": [
    {
     "name": "stdin",
     "output_type": "stream",
     "text": [
      "salary:  50000\n",
      "hostel fees:  10000\n",
      "loan interest:  3000\n"
     ]
    },
    {
     "name": "stdout",
     "output_type": "stream",
     "text": [
      "You can save some money.\n"
     ]
    }
   ],
   "source": [
    "salary = float(input(\"salary: \"))\n",
    "fees = float(input(\"hostel fees: \"))\n",
    "loan = float(input(\"loan interest: \"))\n",
    "total= fees + loan\n",
    "if salary > total:\n",
    "    print(\"You can save some money.\")\n",
    "elif salary == total:\n",
    "    print(\"Your salary can only manage your expenses.\")\n",
    "else:\n",
    "    print(\"You need to work hard for an increment.\")"
   ]
  },
  {
   "cell_type": "code",
   "execution_count": null,
   "id": "74c6e595-0741-4446-a57f-b9cdbb5151e1",
   "metadata": {},
   "outputs": [],
   "source": []
  }
 ],
 "metadata": {
  "kernelspec": {
   "display_name": "Python 3 (ipykernel)",
   "language": "python",
   "name": "python3"
  },
  "language_info": {
   "codemirror_mode": {
    "name": "ipython",
    "version": 3
   },
   "file_extension": ".py",
   "mimetype": "text/x-python",
   "name": "python",
   "nbconvert_exporter": "python",
   "pygments_lexer": "ipython3",
   "version": "3.12.4"
  }
 },
 "nbformat": 4,
 "nbformat_minor": 5
}
