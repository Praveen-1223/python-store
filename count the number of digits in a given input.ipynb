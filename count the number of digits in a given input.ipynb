{
 "cells": [
  {
   "cell_type": "code",
   "execution_count": null,
   "id": "b7aaba5c-9236-456d-8b0a-99d3d9a57ef4",
   "metadata": {},
   "outputs": [],
   "source": [
    "x=int(input())\n",
    "z=str(x)\n",
    "tot_digit=0\n",
    "for i in z:\n",
    "    tot_digit+=1\n",
    "    print(tot)"
   ]
  }
 ],
 "metadata": {
  "kernelspec": {
   "display_name": "Python 3 (ipykernel)",
   "language": "python",
   "name": "python3"
  },
  "language_info": {
   "codemirror_mode": {
    "name": "ipython",
    "version": 3
   },
   "file_extension": ".py",
   "mimetype": "text/x-python",
   "name": "python",
   "nbconvert_exporter": "python",
   "pygments_lexer": "ipython3",
   "version": "3.12.4"
  }
 },
 "nbformat": 4,
 "nbformat_minor": 5
}
