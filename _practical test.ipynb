{
 "cells": [
  {
   "cell_type": "code",
   "execution_count": 3,
   "id": "b2da916a-dde0-481a-9e1c-2fca78591eda",
   "metadata": {},
   "outputs": [
    {
     "name": "stdin",
     "output_type": "stream",
     "text": [
      "enter a value 66\n",
      "enter a value 77\n"
     ]
    },
    {
     "name": "stdout",
     "output_type": "stream",
     "text": [
      "The sum of 66 and 77 is 143\n"
     ]
    }
   ],
   "source": [
    "def add(a,b):\n",
    "    return a+b\n",
    "num1=int(input(\"enter a value\"))\n",
    "num2=int(input(\"enter a value\"))\n",
    "result=add(num1,num2)\n",
    "print(f\"The sum of {num1} and {num2} is {result}\")"
   ]
  },
  {
   "cell_type": "code",
   "execution_count": 5,
   "id": "de6f334a-cdbc-446d-b5fd-61a37fe4f8c2",
   "metadata": {},
   "outputs": [
    {
     "name": "stdin",
     "output_type": "stream",
     "text": [
      "enter a value 77\n"
     ]
    },
    {
     "name": "stdout",
     "output_type": "stream",
     "text": [
      "The number 77 is  not either divisible by 3 or 5 \n"
     ]
    }
   ],
   "source": [
    "num=int(input(\"enter a value\"))\n",
    "if num%3==0 and num%5==0:\n",
    "    print(f\"The number {num} is divisible by both 3 and 5\")\n",
    "elif num%3==0:\n",
    "    print(f\"The number {num} is divisible by 3 \")\n",
    "elif num%5==0:\n",
    "    print(f\"The number {num} is divisible by 5 \")\n",
    "else:\n",
    "    print(f\"The number {num} is  not either divisible by 3 or 5 \")"
   ]
  },
  {
   "cell_type": "code",
   "execution_count": 7,
   "id": "5b257e16-d53a-40a1-a4c8-9a1f782f660a",
   "metadata": {},
   "outputs": [
    {
     "name": "stdin",
     "output_type": "stream",
     "text": [
      "enter the first list of numbers 77\n",
      "enter the second list of numbers 88\n"
     ]
    },
    {
     "name": "stdout",
     "output_type": "stream",
     "text": [
      "Common elements: set()\n"
     ]
    }
   ],
   "source": [
    "list1=(input(\"enter the first list of numbers\")).split()\n",
    "list2=(input(\"enter the second list of numbers\")).split()\n",
    "set1=set(map(int,list1))\n",
    "set2=set(map(int,list2))\n",
    "common={x for x in set1 if x in set2}\n",
    "print(f\"Common elements:\",common)"
   ]
  },
  {
   "cell_type": "code",
   "execution_count": null,
   "id": "b6ed5aec-36b9-46c4-a98e-9e3400de37c1",
   "metadata": {},
   "outputs": [],
   "source": []
  }
 ],
 "metadata": {
  "kernelspec": {
   "display_name": "Python 3 (ipykernel)",
   "language": "python",
   "name": "python3"
  },
  "language_info": {
   "codemirror_mode": {
    "name": "ipython",
    "version": 3
   },
   "file_extension": ".py",
   "mimetype": "text/x-python",
   "name": "python",
   "nbconvert_exporter": "python",
   "pygments_lexer": "ipython3",
   "version": "3.12.4"
  }
 },
 "nbformat": 4,
 "nbformat_minor": 5
}
