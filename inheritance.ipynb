{
 "cells": [
  {
   "cell_type": "code",
   "execution_count": 5,
   "id": "6cef1bdb-f8ff-4c54-afdf-648dac453fc8",
   "metadata": {},
   "outputs": [
    {
     "name": "stdout",
     "output_type": "stream",
     "text": [
      "powerfullll\n",
      "100km\n"
     ]
    }
   ],
   "source": [
    "class Car:\n",
    "    def speed (self):\n",
    "        print(\"100km\")\n",
    "class Audi(Car):\n",
    "    def engine(self):\n",
    "        print(\"powerfullll\")\n",
    "c= Audi()\n",
    "c.engine()\n",
    "c.speed()"
   ]
  },
  {
   "cell_type": "code",
   "execution_count": 1,
   "id": "2ed423d6-06a4-47bb-be73-275e6663a41b",
   "metadata": {},
   "outputs": [
    {
     "name": "stdout",
     "output_type": "stream",
     "text": [
      "bark\n",
      "meow\n"
     ]
    }
   ],
   "source": [
    "class Animal:\n",
    "    def sound(self):\n",
    "        print(\"some generic sound\")\n",
    "\n",
    "class Dog(Animal):\n",
    "    def sound(self):\n",
    "        print(\"bark\")\n",
    "class Cat(Animal):\n",
    "    def sound(self):\n",
    "        print(\"meow\")\n",
    "\n",
    "dog= Dog()\n",
    "cat= Cat()\n",
    "\n",
    "#overriding\n",
    "dog.sound()\n",
    "cat.sound()"
   ]
  },
  {
   "cell_type": "code",
   "execution_count": 3,
   "id": "7f9c8b4e-2f7c-4c1c-90a4-89be4db03ca7",
   "metadata": {},
   "outputs": [
    {
     "name": "stdin",
     "output_type": "stream",
     "text": [
      "Enter the first number 55\n",
      "Enter the second number 6\n"
     ]
    },
    {
     "name": "stdout",
     "output_type": "stream",
     "text": [
      "61\n",
      "49\n",
      "330\n",
      "9.166666666666666\n"
     ]
    }
   ],
   "source": [
    "x=int(input(\"Enter the first number\"))\n",
    "y=int(input(\"Enter the second number\"))\n",
    "class calculate:\n",
    "    def sum(self,x,y):\n",
    "      self.x=x\n",
    "      self.y=y\n",
    "      print(self.x+self.y)\n",
    "\n",
    "    def sub(self,x,y):\n",
    "      self.x=x\n",
    "      self.y=y\n",
    "      print(self.x-self.y)\n",
    "\n",
    "class AdvanceCalculate(calculate):\n",
    "    def mul(self,x,y):\n",
    "      self.x=x\n",
    "      self.y=y\n",
    "      print(self.x*self.y)\n",
    "\n",
    "    def div(self,x,y):\n",
    "      self.x=x\n",
    "      self.y=y\n",
    "      print(self.x/self.y)\n",
    "c=AdvanceCalculate()\n",
    "c.sum(x,y)\n",
    "c.sub(x,y)\n",
    "c.mul(x,y)\n",
    "c.div(x,y)"
   ]
  },
  {
   "cell_type": "code",
   "execution_count": 11,
   "id": "222f537d-71ba-46f4-ac34-3574fe2da5d3",
   "metadata": {},
   "outputs": [
    {
     "name": "stdin",
     "output_type": "stream",
     "text": [
      " 55\n",
      " 77\n"
     ]
    },
    {
     "name": "stdout",
     "output_type": "stream",
     "text": [
      "addition:132\n",
      "subtraction:-22\n",
      "multiplication: 4235\n",
      "floor division:0\n"
     ]
    }
   ],
   "source": [
    "class Calculator:\n",
    "    def add(self,num1,num2):\n",
    "        self.num1=num1;\n",
    "        self.num2=num2;\n",
    "        return self.num1+self.num2;\n",
    "    def sub(self,num1,num2):\n",
    "        return self.num1-self.num2;\n",
    "class Advancecalc(Calculator):\n",
    "    def mul(self,num1,num2):\n",
    "        print(\"multiplication:\",num1*num2)\n",
    "    def div(self,num1,num2):\n",
    "        return self.num1//self.num2;\n",
    "x=Advancecalc()\n",
    "num1=int(input())\n",
    "num2=int(input())\n",
    "print(\"addition:%d\"%(x.add(num1,num2)))\n",
    "print(\"subtraction:%d\"%(x.sub(num1,num2)))\n",
    "x.mul(num1,num2)\n",
    "print(\"floor division:%d\"%(x.div(num1,num2)))\n",
    "        \n",
    "        "
   ]
  },
  {
   "cell_type": "code",
   "execution_count": null,
   "id": "8430adb6-5ac5-4b7e-b9b4-cfb13bd878e9",
   "metadata": {},
   "outputs": [],
   "source": []
  }
 ],
 "metadata": {
  "kernelspec": {
   "display_name": "Python 3 (ipykernel)",
   "language": "python",
   "name": "python3"
  },
  "language_info": {
   "codemirror_mode": {
    "name": "ipython",
    "version": 3
   },
   "file_extension": ".py",
   "mimetype": "text/x-python",
   "name": "python",
   "nbconvert_exporter": "python",
   "pygments_lexer": "ipython3",
   "version": "3.12.4"
  }
 },
 "nbformat": 4,
 "nbformat_minor": 5
}
