{
 "cells": [
  {
   "cell_type": "code",
   "execution_count": 3,
   "id": "732be4bd-0139-4ad6-be9c-45bc3cc93a59",
   "metadata": {},
   "outputs": [
    {
     "name": "stdin",
     "output_type": "stream",
     "text": [
      " malayalam\n"
     ]
    },
    {
     "name": "stdout",
     "output_type": "stream",
     "text": [
      "malayalam\n",
      "Reverserd Text: malayalam\n",
      "yes,the given string is palindrome\n"
     ]
    }
   ],
   "source": [
    "text=str(input())\n",
    "rev_text=\"\"\n",
    "for j in text:\n",
    "    rev_text=j+rev_text\n",
    "print(rev_text)\n",
    "print(\"Reverserd Text:\", rev_text)\n",
    "if text==rev_text:\n",
    "    print(\"yes,the given string is palindrome\")\n",
    "else:\n",
    "    print(\"no,the given string is not a palindrome\")"
   ]
  },
  {
   "cell_type": "code",
   "execution_count": null,
   "id": "4415eb2a-f3ce-42ff-9314-65a74a570fe1",
   "metadata": {},
   "outputs": [],
   "source": []
  }
 ],
 "metadata": {
  "kernelspec": {
   "display_name": "Python 3 (ipykernel)",
   "language": "python",
   "name": "python3"
  },
  "language_info": {
   "codemirror_mode": {
    "name": "ipython",
    "version": 3
   },
   "file_extension": ".py",
   "mimetype": "text/x-python",
   "name": "python",
   "nbconvert_exporter": "python",
   "pygments_lexer": "ipython3",
   "version": "3.12.4"
  }
 },
 "nbformat": 4,
 "nbformat_minor": 5
}
