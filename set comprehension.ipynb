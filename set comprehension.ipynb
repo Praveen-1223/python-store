{
 "cells": [
  {
   "cell_type": "code",
   "execution_count": 1,
   "id": "f466479d-f6d4-4a51-8228-cf3887878040",
   "metadata": {},
   "outputs": [
    {
     "name": "stdout",
     "output_type": "stream",
     "text": [
      "{2, 4}\n"
     ]
    }
   ],
   "source": [
    "numbers=[1,2,3,4,5]\n",
    "even_numbers={x for x in numbers if x%2==0}\n",
    "print(even_numbers)"
   ]
  },
  {
   "cell_type": "code",
   "execution_count": 5,
   "id": "b2bc0851-4fe0-463c-af19-23cea7a32655",
   "metadata": {},
   "outputs": [
    {
     "name": "stdout",
     "output_type": "stream",
     "text": [
      "{'cherry', 'banana', 'apple'}\n"
     ]
    }
   ],
   "source": [
    "words=[\"apple\",\"banana\",\"cherry\",\"lyn\"]\n",
    "vowels={\"a\",\"e\",\"i\",\"o\",\"u\"}\n",
    "vowels_words={word for word in words if any(letter in vowels for letter in word)}\n",
    "print(vowels_words)\n"
   ]
  },
  {
   "cell_type": "code",
   "execution_count": 11,
   "id": "2482ed33-c037-4c3c-8a4a-784bc0b098b4",
   "metadata": {},
   "outputs": [
    {
     "name": "stdout",
     "output_type": "stream",
     "text": [
      "{'L', 'R', 'O', 'E', 'D', 'W', 'H'}\n",
      "{'L', 'R', 'O', 'E', 'D', 'W', 'H'}\n"
     ]
    }
   ],
   "source": [
    "text=\"hello world\"\n",
    "uppr={char.upper()for char in text if char.isalpha()}\n",
    "print(uppr)\n",
    "print(uppr)"
   ]
  },
  {
   "cell_type": "code",
   "execution_count": null,
   "id": "301cdea7-cf90-4af4-a9ea-ca203074fcfe",
   "metadata": {},
   "outputs": [],
   "source": []
  }
 ],
 "metadata": {
  "kernelspec": {
   "display_name": "Python 3 (ipykernel)",
   "language": "python",
   "name": "python3"
  },
  "language_info": {
   "codemirror_mode": {
    "name": "ipython",
    "version": 3
   },
   "file_extension": ".py",
   "mimetype": "text/x-python",
   "name": "python",
   "nbconvert_exporter": "python",
   "pygments_lexer": "ipython3",
   "version": "3.12.4"
  }
 },
 "nbformat": 4,
 "nbformat_minor": 5
}
