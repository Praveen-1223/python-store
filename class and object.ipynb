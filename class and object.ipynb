{
 "cells": [
  {
   "cell_type": "code",
   "execution_count": 1,
   "id": "95dd3fca-9b74-4125-9e87-023d8cc06915",
   "metadata": {},
   "outputs": [
    {
     "name": "stdout",
     "output_type": "stream",
     "text": [
      "welcome to oops concept\n"
     ]
    }
   ],
   "source": [
    "class python:\n",
    "    def fun(self):\n",
    "        print(\"welcome to oops concept\")\n",
    "pyt=python()\n",
    "pyt.fun()"
   ]
  },
  {
   "cell_type": "code",
   "execution_count": 53,
   "id": "9c85f82f-f445-4343-9a7d-b9a37a7c7e07",
   "metadata": {},
   "outputs": [
    {
     "name": "stdout",
     "output_type": "stream",
     "text": [
      "name: XXXx age: 26 salary: 30000\n"
     ]
    }
   ],
   "source": [
    "class Person:\n",
    "     def __init__(self, n,a,s):\n",
    "        self.name = n\n",
    "        self.age = a\n",
    "        self.salary=s\n",
    "         \n",
    "     def describe(self):\n",
    "           print(\"name:\",self.name,\"age:\",self.age,\"salary:\",self.salary)\n",
    "\n",
    "e1 = Person(\"XXXx\",26,30000)\n",
    "e1.describe()"
   ]
  },
  {
   "cell_type": "code",
   "execution_count": 47,
   "id": "23c3e879-a64d-444f-bb82-4eb2516a051b",
   "metadata": {},
   "outputs": [
    {
     "name": "stdout",
     "output_type": "stream",
     "text": [
      "Name: Audi Id: 200000\n"
     ]
    }
   ],
   "source": [
    "class Car:\n",
    "    \n",
    "    car=0\n",
    "    def __init__(self,name,id):\n",
    "        self.name=name\n",
    "        self.id=id\n",
    "        Car.car+=1\n",
    "\n",
    "    def printCardata(self):\n",
    "        print(\"Name:\",self.name,\"Id:\",self.id)\n",
    "c=Car(\"Audi\",200000)\n",
    "c.printCardata()"
   ]
  },
  {
   "cell_type": "code",
   "execution_count": 61,
   "id": "71305db1-b623-4fdd-8e5a-3cbc1f36384d",
   "metadata": {},
   "outputs": [
    {
     "name": "stdout",
     "output_type": "stream",
     "text": [
      "kaaakaaa kunjuu kaakaa kunjuu\n"
     ]
    }
   ],
   "source": [
    "class Birds:\n",
    "    def __init__(self,b1,b2,b3):\n",
    "        self.b1=b1\n",
    "        self.b2=b2\n",
    "        self.b3=b3\n",
    "    def printdata(self):\n",
    "        print(self.b1,self.b2,self.b3)\n",
    "b=Birds(\"kaaakaaa\",\"kunjuu\",\"kaakaa kunjuu\")\n",
    "b.printdata()"
   ]
  },
  {
   "cell_type": "code",
   "execution_count": 69,
   "id": "4426a0b2-59df-4719-a980-e4bc9d9d675f",
   "metadata": {},
   "outputs": [
    {
     "name": "stdin",
     "output_type": "stream",
     "text": [
      " 56\n"
     ]
    },
    {
     "name": "stdout",
     "output_type": "stream",
     "text": [
      "positive\n"
     ]
    }
   ],
   "source": [
    "class Numbers:\n",
    "    def __init__(self,n):\n",
    "        self.number=n\n",
    "        \n",
    "\n",
    "    def checknum(self):\n",
    "        if self.number>0:\n",
    "            print(\"positive\")\n",
    "        else:\n",
    "            print(\"negative\")\n",
    "\n",
    "b = Numbers(int(input()))\n",
    "b.checknum()"
   ]
  },
  {
   "cell_type": "code",
   "execution_count": 71,
   "id": "1234883b-a080-421a-8be6-8a4bb5454be5",
   "metadata": {},
   "outputs": [
    {
     "name": "stdout",
     "output_type": "stream",
     "text": [
      "hello\n",
      "10\n"
     ]
    }
   ],
   "source": [
    "class Test:\n",
    "    x=10 \n",
    "    def __init__(self):\n",
    "        print(\"hello\")\n",
    "t=Test()\n",
    "print(Test.x)"
   ]
  },
  {
   "cell_type": "code",
   "execution_count": 73,
   "id": "1cf0f597-e78a-4724-aae7-6a89c73da915",
   "metadata": {},
   "outputs": [
    {
     "name": "stdout",
     "output_type": "stream",
     "text": [
      "total cars: 3\n",
      "Name: Audi Id: 2000000\n",
      "Name: BENZ Id: 3000000\n",
      "Name: BMW Id: 1000000\n"
     ]
    }
   ],
   "source": [
    "class Car:\n",
    "    \n",
    "    car=0\n",
    "    def __init__(self,name,id):\n",
    "        self.name=name\n",
    "        self.id=id\n",
    "        Car.car+=1\n",
    "\n",
    "    def printCardata(self):\n",
    "        print(\"Name:\",self.name,\"Id:\",self.id)\n",
    "c=Car(\"Audi\",2000000)\n",
    "c1=Car(\"BENZ\",3000000)\n",
    "c2=Car(\"BMW\",1000000)\n",
    "print(\"total cars:\",Car.car)\n",
    "c.printCardata()\n",
    "c1.printCardata()\n",
    "c2.printCardata()\n",
    "\n"
   ]
  },
  {
   "cell_type": "code",
   "execution_count": 75,
   "id": "3f766417-72fa-4998-b9a1-431209ea80de",
   "metadata": {},
   "outputs": [
    {
     "name": "stdout",
     "output_type": "stream",
     "text": [
      "car\n"
     ]
    }
   ],
   "source": [
    "class test:\n",
    "    def __init__(self):\n",
    "        self.variable = 'car'\n",
    "        self.Change(self.variable)\n",
    "    def Change(seklf,var):\n",
    "        var = 'Bike'\n",
    "\n",
    "obj=test()\n",
    "print(obj.variable)"
   ]
  },
  {
   "cell_type": "code",
   "execution_count": null,
   "id": "736a28a5-b941-4496-8700-b55573701b91",
   "metadata": {},
   "outputs": [],
   "source": []
  }
 ],
 "metadata": {
  "kernelspec": {
   "display_name": "Python 3 (ipykernel)",
   "language": "python",
   "name": "python3"
  },
  "language_info": {
   "codemirror_mode": {
    "name": "ipython",
    "version": 3
   },
   "file_extension": ".py",
   "mimetype": "text/x-python",
   "name": "python",
   "nbconvert_exporter": "python",
   "pygments_lexer": "ipython3",
   "version": "3.12.4"
  }
 },
 "nbformat": 4,
 "nbformat_minor": 5
}
