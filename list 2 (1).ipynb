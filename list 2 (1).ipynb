{
 "cells": [
  {
   "cell_type": "code",
   "execution_count": 1,
   "id": "19e322f3-a0ac-4fd4-b49b-010ee46e160b",
   "metadata": {},
   "outputs": [],
   "source": [
    "a=[10,20,30,40]"
   ]
  },
  {
   "cell_type": "code",
   "execution_count": 7,
   "id": "627d781f-3c64-4b70-aabb-eb880b24e5a2",
   "metadata": {},
   "outputs": [
    {
     "name": "stdout",
     "output_type": "stream",
     "text": [
      "10   20   30   40   "
     ]
    }
   ],
   "source": [
    "#what is the way to print all the elements in the list.\n",
    "for i in a:\n",
    "    print(i,end=\"   \")"
   ]
  },
  {
   "cell_type": "code",
   "execution_count": 9,
   "id": "c6b68f28-07ba-4bc1-89d9-346c99a1ec40",
   "metadata": {},
   "outputs": [
    {
     "name": "stdout",
     "output_type": "stream",
     "text": [
      "value found\n"
     ]
    }
   ],
   "source": [
    "#how to check whether the element is present in the list are not.\n",
    "for i in a:\n",
    "    if i==30:\n",
    "        print(\"value found\")\n",
    "        break\n",
    "else:\n",
    "    print(\"not found\")"
   ]
  },
  {
   "cell_type": "code",
   "execution_count": 17,
   "id": "6b1dfb38-eed2-42b3-b087-dc0d53530b24",
   "metadata": {},
   "outputs": [
    {
     "name": "stdout",
     "output_type": "stream",
     "text": [
      "found\n"
     ]
    }
   ],
   "source": [
    "    if 30 in a:\n",
    "        print(\"found\")\n",
    "        \n",
    "    else:\n",
    "        print(\"not found\")"
   ]
  },
  {
   "cell_type": "code",
   "execution_count": 19,
   "id": "098a834d-e598-41f6-bfd3-eb0f654877a1",
   "metadata": {},
   "outputs": [
    {
     "data": {
      "text/plain": [
       "True"
      ]
     },
     "execution_count": 19,
     "metadata": {},
     "output_type": "execute_result"
    }
   ],
   "source": [
    "30 in a"
   ]
  },
  {
   "cell_type": "code",
   "execution_count": 21,
   "id": "9a64a63f-0492-46c2-b9ff-ade672043fee",
   "metadata": {},
   "outputs": [
    {
     "name": "stdout",
     "output_type": "stream",
     "text": [
      "2\n"
     ]
    }
   ],
   "source": [
    "#write a python code to find the index value of a number 30 in the list.\n",
    "for i in range(len(a)):\n",
    "    if a[i]==30:\n",
    "        print(i)\n",
    "        break"
   ]
  },
  {
   "cell_type": "code",
   "execution_count": 79,
   "id": "c786f308-75fe-4f71-9a04-582a6d086736",
   "metadata": {},
   "outputs": [
    {
     "name": "stdout",
     "output_type": "stream",
     "text": [
      "2\n"
     ]
    }
   ],
   "source": [
    "#without loop.\n",
    "index=a.index(30)\n",
    "print(index)"
   ]
  },
  {
   "cell_type": "code",
   "execution_count": 45,
   "id": "bb580404-6383-4dfc-9a89-82b8f8e35df2",
   "metadata": {},
   "outputs": [
    {
     "name": "stdout",
     "output_type": "stream",
     "text": [
      "25\n",
      "77\n",
      "23\n"
     ]
    }
   ],
   "source": [
    "q=[10,20,30,40,50,60,70,80,90,11,22,33,44,55,66,77,88,99,100,12,23,34,56,78,89]\n",
    "print(len(q))\n",
    "print(q[15])\n",
    "print(q[-5])"
   ]
  },
  {
   "cell_type": "code",
   "execution_count": 69,
   "id": "5ec82c8c-1ffd-4c00-af1a-7b729324c5f5",
   "metadata": {},
   "outputs": [
    {
     "name": "stdout",
     "output_type": "stream",
     "text": [
      "[20, 'hai', 2324, 'banglore', 'praveen']\n",
      "[20, 'hai', 2324, 'banglore', 'praveen', 'h']\n",
      "[20, 'hai', 2324, 'banglore', 'praveen', 'h', 'e']\n",
      "[20, 'hai', 2324, 'banglore', 'praveen', 'h', 'e', 'l']\n",
      "[20, 'hai', 2324, 'banglore', 'praveen', 'h', 'e', 'l', 'l']\n",
      "[20, 'hai', 2324, 'banglore', 'praveen', 'h', 'e', 'l', 'l', 'o']\n",
      "[20, 'heyy', 2324, 'banglore', 'praveen', 'h', 'e', 'l', 'l', 'o']\n",
      "['heyy', 2324, 'banglore', 'praveen']\n",
      "['heyy', 2324, 'banglore', 'praveen', 'h', 'e', 'l', 'l', 'o']\n",
      "[20, 'heyy', 2324, 'banglore', 'praveen']\n"
     ]
    }
   ],
   "source": [
    "#append extend insert\n",
    "info=[20,\"hai\",2324,\"banglore\"]\n",
    "info.append(\"praveen\")\n",
    "print(info)\n",
    "#how to add each charaters of the word hello to the list\n",
    "b=\"hello\"\n",
    "for i in b:\n",
    "    info.append(i)\n",
    "    print(info)\n",
    "#insert\n",
    "info[1]=\"heyy\"\n",
    "print(info)\n",
    "#slicing operator\n",
    "print(info[1:5])\n",
    "print(info[1:])\n",
    "print(info[:5])\n",
    "    \n"
   ]
  },
  {
   "cell_type": "code",
   "execution_count": 77,
   "id": "edd08e45-0853-4e6b-8d06-550708f4234b",
   "metadata": {},
   "outputs": [
    {
     "name": "stdout",
     "output_type": "stream",
     "text": [
      "[20, 2324, 55, 'akash']\n",
      "[20, 2324]\n"
     ]
    }
   ],
   "source": [
    "info=[20,\"hai\",2324,\"banglore\",55,666,\"akash\"]\n",
    "print(info[::2])\n",
    "print(info[:4:2])"
   ]
  },
  {
   "cell_type": "code",
   "execution_count": 91,
   "id": "866b62ee-a472-403d-9189-4895b5710d39",
   "metadata": {},
   "outputs": [
    {
     "name": "stdout",
     "output_type": "stream",
     "text": [
      "['akash', 666, 55, 'banglore', 2324, 'hai', 20, 'abc', 1]\n",
      "['akash', 'banglore', 20]\n"
     ]
    }
   ],
   "source": [
    "a=[1,\"abc\",20,\"hai\",2324,\"banglore\",55,666,\"akash\"]\n",
    "print(a[::-1])\n",
    "print(a[::-3])"
   ]
  },
  {
   "cell_type": "code",
   "execution_count": 93,
   "id": "ee6bda3c-87ff-4401-8068-0fdaab3c318c",
   "metadata": {},
   "outputs": [
    {
     "name": "stdin",
     "output_type": "stream",
     "text": [
      "enter the number= 55\n"
     ]
    },
    {
     "name": "stdout",
     "output_type": "stream",
     "text": [
      "[55, 55, 55, 55, 55, 55, 55, 55, 55, 55, 55, 55, 55, 55, 55, 55, 55, 55, 55, 55, 55, 55, 55, 55, 55, 55, 55, 55, 55, 55, 55, 55, 55, 55, 55, 55, 55, 55, 55, 55, 55, 55, 55, 55, 55, 55, 55, 55, 55, 55, 55, 55, 55, 55, 55, 55, 55, 55, 55, 55, 55, 55, 55, 55, 55, 55, 55, 55, 55, 55, 55, 55, 55, 55, 55, 55, 55, 55, 55, 55, 55, 55, 55, 55, 55, 55, 55, 55, 55, 55, 55, 55, 55, 55, 55, 55, 55, 55, 55, 55]\n"
     ]
    }
   ],
   "source": [
    "#write a python code to create a list of hundred elements,where all the entries are same number,and the number is given by the user\n",
    "num=int(input(\"enter the number=\"))\n",
    "list=[num]*100\n",
    "print(list)\n",
    "\n"
   ]
  },
  {
   "cell_type": "code",
   "execution_count": 95,
   "id": "ae4263c9-6925-41ba-a011-7a7547407a18",
   "metadata": {},
   "outputs": [
    {
     "name": "stdout",
     "output_type": "stream",
     "text": [
      "[1, 3, 5, 7, 9, 11, 13, 15, 17, 19]\n"
     ]
    }
   ],
   "source": [
    "odd=[2*i+1 for i in range(10)]\n",
    "print(odd)"
   ]
  },
  {
   "cell_type": "code",
   "execution_count": 121,
   "id": "e002fe73-ae22-49a8-bbc5-a39a8ca5b40f",
   "metadata": {},
   "outputs": [
    {
     "ename": "NameError",
     "evalue": "name 'List' is not defined",
     "output_type": "error",
     "traceback": [
      "\u001b[1;31m---------------------------------------------------------------------------\u001b[0m",
      "\u001b[1;31mNameError\u001b[0m                                 Traceback (most recent call last)",
      "Cell \u001b[1;32mIn[121], line 1\u001b[0m\n\u001b[1;32m----> 1\u001b[0m list3 \u001b[38;5;241m=\u001b[39m List(\u001b[38;5;28mrange\u001b[39m(\u001b[38;5;241m1\u001b[39m,\u001b[38;5;241m11\u001b[39m))\n\u001b[0;32m      2\u001b[0m \u001b[38;5;66;03m#odd = list_3[::2]\u001b[39;00m\n\u001b[0;32m      3\u001b[0m \u001b[38;5;28mprint\u001b[39m(list3)\n",
      "\u001b[1;31mNameError\u001b[0m: name 'List' is not defined"
     ]
    }
   ],
   "source": [
    "list3 = List(range(1,11))\n",
    "#odd = list_3[::2]\n",
    "print(list3)\n"
   ]
  },
  {
   "cell_type": "code",
   "execution_count": 101,
   "id": "54fc01ef-3e4a-4a8d-ab50-e91f6ef66dee",
   "metadata": {},
   "outputs": [
    {
     "ename": "TypeError",
     "evalue": "'list' object is not callable",
     "output_type": "error",
     "traceback": [
      "\u001b[1;31m---------------------------------------------------------------------------\u001b[0m",
      "\u001b[1;31mTypeError\u001b[0m                                 Traceback (most recent call last)",
      "Cell \u001b[1;32mIn[101], line 1\u001b[0m\n\u001b[1;32m----> 1\u001b[0m list_3 \u001b[38;5;241m=\u001b[39m \u001b[38;5;28mlist\u001b[39m(\u001b[38;5;28mrange\u001b[39m(\u001b[38;5;241m1\u001b[39m,\u001b[38;5;241m20\u001b[39m,\u001b[38;5;241m2\u001b[39m))\n\u001b[0;32m      2\u001b[0m \u001b[38;5;28mprint\u001b[39m(list_3)\n",
      "\u001b[1;31mTypeError\u001b[0m: 'list' object is not callable"
     ]
    }
   ],
   "source": [
    "list_3 = list(range(1,20,2))\n",
    "print(list_3)"
   ]
  },
  {
   "cell_type": "code",
   "execution_count": null,
   "id": "b8ad76fa-50e2-48fc-8cde-cf850685b2e5",
   "metadata": {},
   "outputs": [],
   "source": []
  },
  {
   "cell_type": "code",
   "execution_count": 107,
   "id": "582ba93e-7797-487b-bdfe-37cb2291fac6",
   "metadata": {},
   "outputs": [
    {
     "name": "stdin",
     "output_type": "stream",
     "text": [
      "Enter a string:  hello\n"
     ]
    },
    {
     "name": "stdout",
     "output_type": "stream",
     "text": [
      "List of characters: ['h', 'e', 'l', 'l', 'o']\n"
     ]
    }
   ],
   "source": [
    "# Get user input\n",
    "user_input = input(\"Enter a string: \")\n",
    "\n",
    "# Create a list by extracting characters from the string\n",
    "char_list = [char for char in user_input]\n",
    "\n",
    "# Print the resulting list\n",
    "print(\"List of characters:\", char_list)\n"
   ]
  },
  {
   "cell_type": "code",
   "execution_count": 109,
   "id": "0b46f1b8-75e1-4b9c-b389-3cbb188816fa",
   "metadata": {},
   "outputs": [
    {
     "name": "stdin",
     "output_type": "stream",
     "text": [
      " hello\n",
      " akash\n"
     ]
    },
    {
     "name": "stdout",
     "output_type": "stream",
     "text": [
      "hello\n",
      "akash\n"
     ]
    }
   ],
   "source": [
    "a=input()\n",
    "b=input()\n",
    "list1=[char for char in a]\n",
    "list2=[char for char in b]\n",
    "print(a)\n",
    "print(b)"
   ]
  },
  {
   "cell_type": "code",
   "execution_count": null,
   "id": "58876e14-d91a-45ef-be2f-5d4a4ec65c11",
   "metadata": {},
   "outputs": [],
   "source": []
  }
 ],
 "metadata": {
  "kernelspec": {
   "display_name": "Python 3 (ipykernel)",
   "language": "python",
   "name": "python3"
  },
  "language_info": {
   "codemirror_mode": {
    "name": "ipython",
    "version": 3
   },
   "file_extension": ".py",
   "mimetype": "text/x-python",
   "name": "python",
   "nbconvert_exporter": "python",
   "pygments_lexer": "ipython3",
   "version": "3.12.4"
  }
 },
 "nbformat": 4,
 "nbformat_minor": 5
}
