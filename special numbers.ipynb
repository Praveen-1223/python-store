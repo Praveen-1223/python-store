{
 "cells": [
  {
   "cell_type": "code",
   "execution_count": 1,
   "id": "6fe541f6-a15f-41a6-9f6b-2248df72482c",
   "metadata": {},
   "outputs": [
    {
     "name": "stdin",
     "output_type": "stream",
     "text": [
      " Enter X :  7\n",
      " Enter Y :  8\n",
      " Enter Z :  9\n"
     ]
    },
    {
     "name": "stdout",
     "output_type": "stream",
     "text": [
      "24.0\n",
      "504.0\n"
     ]
    }
   ],
   "source": [
    "x=int(input(\" Enter X : \"))\n",
    "y=float(input(\" Enter Y : \"))\n",
    "z=int(input(\" Enter Z : \"))\n",
    "def add():\n",
    "    sum=x+y+z\n",
    "    return sum\n",
    "def pro():\n",
    "    prod=x*y*z\n",
    "    return prod\n",
    "print(add())\n",
    "print(pro())"
   ]
  },
  {
   "cell_type": "code",
   "execution_count": 3,
   "id": "9088ca8d-a96f-4591-9148-164b0a971ae9",
   "metadata": {},
   "outputs": [
    {
     "name": "stdout",
     "output_type": "stream",
     "text": [
      "b is greater\n"
     ]
    }
   ],
   "source": [
    "def maxi(a,b,c):\n",
    "    if a>b and a>c:\n",
    "        print(\"a is greater\")\n",
    "    elif b>c:\n",
    "        print(\"b is greater\")\n",
    "    else:\n",
    "        print(\"c is greater\")\n",
    "maxi(1,6,2)"
   ]
  },
  {
   "cell_type": "code",
   "execution_count": 5,
   "id": "f97cb302-97b9-40db-b7c7-ee1002a302d4",
   "metadata": {},
   "outputs": [
    {
     "name": "stdin",
     "output_type": "stream",
     "text": [
      "enter the number: 5\n",
      "enter the number: 7\n"
     ]
    },
    {
     "name": "stdout",
     "output_type": "stream",
     "text": [
      "not a special number\n"
     ]
    }
   ],
   "source": [
    "a=int(input(\"enter the number:\"))\n",
    "b=int(int(input(\"enter the number:\")))\n",
    "d=a+b;\n",
    "e=a*b\n",
    "if d==19:\n",
    "  print(\"d is a special number\")\n",
    "elif e==19:\n",
    "  print(\"e is a special number\")\n",
    "else:\n",
    "  print(\"not a special number\")"
   ]
  },
  {
   "cell_type": "code",
   "execution_count": 11,
   "id": "cab09039-bda4-4035-b54e-3db0b33b55d1",
   "metadata": {},
   "outputs": [
    {
     "name": "stdin",
     "output_type": "stream",
     "text": [
      " 9\n"
     ]
    },
    {
     "name": "stdout",
     "output_type": "stream",
     "text": [
      "First digit :  0\n",
      "Second digit :  9\n",
      "Result 9\n"
     ]
    }
   ],
   "source": [
    "x=int(input())\n",
    "f=x//10\n",
    "s=x%10\n",
    "print(\"First digit : \",f)\n",
    "print(\"Second digit : \",s)\n",
    "result=(f+s)+(f*s)\n",
    "print(\"Result\",result)"
   ]
  },
  {
   "cell_type": "code",
   "execution_count": 13,
   "id": "1cfada2b-9c8f-402a-af9e-97e2b162a645",
   "metadata": {},
   "outputs": [
    {
     "name": "stdin",
     "output_type": "stream",
     "text": [
      "Enter the value of m (2-digit number):  65\n",
      "Enter the value of n (2-digit number):  87\n"
     ]
    },
    {
     "name": "stdout",
     "output_type": "stream",
     "text": [
      "The special numbers between 65 and 87 are: 69, 79\n"
     ]
    }
   ],
   "source": [
    "def is_special_number(num):\n",
    "    digit1 = num // 10\n",
    "    digit2 = num % 10\n",
    "    if (digit1 + digit2) + (digit1 * digit2) == num:\n",
    "        return True\n",
    "    return False\n",
    "\n",
    "def find_special_numbers(m, n):\n",
    "    special_numbers = []\n",
    "    for num in range(m, n+1):\n",
    "        if is_special_number(num):\n",
    "            special_numbers.append(num)\n",
    "    return special_numbers\n",
    "\n",
    "m = int(input(\"Enter the value of m (2-digit number): \"))\n",
    "n = int(input(\"Enter the value of n (2-digit number): \"))\n",
    "\n",
    "special_numbers = find_special_numbers(m, n)\n",
    "if special_numbers:\n",
    "    print(\"The special numbers between\", m, \"and\", n, \"are:\", \", \".join(map(str, special_numbers)))\n",
    "else:\n",
    "    print(\"There are no special numbers between\", m, \"and\", n)"
   ]
  },
  {
   "cell_type": "code",
   "execution_count": null,
   "id": "26c8ba8b-3123-47de-9c74-ad34a6b864ff",
   "metadata": {},
   "outputs": [],
   "source": []
  }
 ],
 "metadata": {
  "kernelspec": {
   "display_name": "Python 3 (ipykernel)",
   "language": "python",
   "name": "python3"
  },
  "language_info": {
   "codemirror_mode": {
    "name": "ipython",
    "version": 3
   },
   "file_extension": ".py",
   "mimetype": "text/x-python",
   "name": "python",
   "nbconvert_exporter": "python",
   "pygments_lexer": "ipython3",
   "version": "3.12.4"
  }
 },
 "nbformat": 4,
 "nbformat_minor": 5
}
