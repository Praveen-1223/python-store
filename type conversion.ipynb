{
 "cells": [
  {
   "cell_type": "code",
   "execution_count": 1,
   "id": "2f0fb7b3-c049-48cf-97c6-7846f4444f7e",
   "metadata": {},
   "outputs": [
    {
     "name": "stdout",
     "output_type": "stream",
     "text": [
      "10 <class 'int'>\n"
     ]
    }
   ],
   "source": [
    "#int conversion.\n",
    "#float to int.\n",
    "a=10.67\n",
    "type(a)\n",
    "b=int(a)\n",
    "print(b,type(b))"
   ]
  },
  {
   "cell_type": "code",
   "execution_count": 11,
   "id": "1d150163-4e0c-4137-9037-c5c8576a1af3",
   "metadata": {},
   "outputs": [
    {
     "name": "stdout",
     "output_type": "stream",
     "text": [
      "17\n",
      "20\n"
     ]
    }
   ],
   "source": [
    "#complex to int.\n",
    "x=17.56+20j\n",
    "y=int(x.real)\n",
    "z=int(x.imag)   #a=int(x) error!!!!\n",
    "print(y)\n",
    "print(z)"
   ]
  },
  {
   "cell_type": "code",
   "execution_count": 13,
   "id": "445fdb3d-d13b-455b-8a2b-b928499e9f7e",
   "metadata": {},
   "outputs": [
    {
     "name": "stdout",
     "output_type": "stream",
     "text": [
      "100 <class 'int'>\n"
     ]
    }
   ],
   "source": [
    "#str to int\n",
    "x=\"100\"\n",
    "t=int(x)\n",
    "print(t,type(t))"
   ]
  },
  {
   "cell_type": "code",
   "execution_count": 15,
   "id": "57283f2d-8365-4fb0-9d15-cf5be99d17b1",
   "metadata": {},
   "outputs": [
    {
     "name": "stdout",
     "output_type": "stream",
     "text": [
      "1 <class 'int'>\n"
     ]
    }
   ],
   "source": [
    "#bool to int.\n",
    "x=True\n",
    "y=int(x)\n",
    "print(y,type(y))"
   ]
  },
  {
   "cell_type": "code",
   "execution_count": null,
   "id": "08ec1170-db41-4d03-80d1-6ae9278ddbc9",
   "metadata": {},
   "outputs": [],
   "source": [
    "#float conversion.\n",
    "#int to float.\n"
   ]
  }
 ],
 "metadata": {
  "kernelspec": {
   "display_name": "Python 3 (ipykernel)",
   "language": "python",
   "name": "python3"
  },
  "language_info": {
   "codemirror_mode": {
    "name": "ipython",
    "version": 3
   },
   "file_extension": ".py",
   "mimetype": "text/x-python",
   "name": "python",
   "nbconvert_exporter": "python",
   "pygments_lexer": "ipython3",
   "version": "3.12.4"
  }
 },
 "nbformat": 4,
 "nbformat_minor": 5
}
