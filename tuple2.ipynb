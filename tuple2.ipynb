{
 "cells": [
  {
   "cell_type": "code",
   "execution_count": 7,
   "id": "5094e59d-de94-4428-a234-3df3fedd68b9",
   "metadata": {},
   "outputs": [
    {
     "name": "stdout",
     "output_type": "stream",
     "text": [
      "4\n",
      "('thikk thikk', 5, 77, 9.8)\n"
     ]
    }
   ],
   "source": [
    "#bulit in functions.\n",
    "tuple=('thikk thikk',5,77,9.8)\n",
    "print(len(tuple))\n",
    "print(tuple)\n"
   ]
  },
  {
   "cell_type": "code",
   "execution_count": 17,
   "id": "90e1e446-1737-45b4-8196-0eabd4f92cbb",
   "metadata": {},
   "outputs": [
    {
     "name": "stdout",
     "output_type": "stream",
     "text": [
      "11\n",
      "66\n",
      "231\n",
      "True\n",
      "(22, 11, 33, 44, 55, 66)\n"
     ]
    }
   ],
   "source": [
    "ww=(22,11,33,44,55,66)\n",
    "\n",
    "print(min(ww))\n",
    "print(max(ww))\n",
    "print(sum(ww))\n",
    "print(all(ww))\n",
    "print(ww)"
   ]
  },
  {
   "cell_type": "code",
   "execution_count": 19,
   "id": "561907a6-43cc-49d7-83d8-b445e75204f2",
   "metadata": {},
   "outputs": [
    {
     "name": "stdout",
     "output_type": "stream",
     "text": [
      "['apple', 'byte', 'computer']\n"
     ]
    }
   ],
   "source": [
    "vv=(\"apple\",\"byte\",\"computer\")\n",
    "\n",
    "print(list(vv))"
   ]
  },
  {
   "cell_type": "code",
   "execution_count": 27,
   "id": "2dc98b12-2e85-4fd1-97dc-ea316e1c74a0",
   "metadata": {},
   "outputs": [
    {
     "name": "stdout",
     "output_type": "stream",
     "text": [
      "apple\n",
      "byte\n"
     ]
    }
   ],
   "source": [
    "vv=(\"apple\",\"byte\",\"computer\")\n",
    "\n",
    "n=2\n",
    "for i in range(n):\n",
    "    print(vv[i])"
   ]
  },
  {
   "cell_type": "code",
   "execution_count": 33,
   "id": "4affc84f-4511-429a-896e-aeeacc0c9d53",
   "metadata": {},
   "outputs": [
    {
     "name": "stdout",
     "output_type": "stream",
     "text": [
      "3\n",
      "2\n"
     ]
    }
   ],
   "source": [
    "vv=(\"apple\",\"byte\",\"computer\",\"byte\",\"byte\")\n",
    "print(vv.count(\"byte\"))\n",
    "print(vv.index(\"computer\"))\n"
   ]
  },
  {
   "cell_type": "code",
   "execution_count": 5,
   "id": "b39f4402-e920-4691-9362-f82c8d87a3b2",
   "metadata": {},
   "outputs": [
    {
     "name": "stdout",
     "output_type": "stream",
     "text": [
      "()\n",
      "(1, 2, 3, 4)\n"
     ]
    }
   ],
   "source": [
    "p=()\n",
    "print(p)\n",
    "#concatenation.\n",
    "tt=(1,2)\n",
    "yy=(3,4)\n",
    "ty=tt+yy\n",
    "print(ty)"
   ]
  },
  {
   "cell_type": "code",
   "execution_count": 9,
   "id": "aaf21c69-cc76-4c5b-82de-50ef2ab3949f",
   "metadata": {},
   "outputs": [
    {
     "name": "stdout",
     "output_type": "stream",
     "text": [
      "(3, 4, 5, 6, 7, 33.7)\n"
     ]
    }
   ],
   "source": [
    "value=(3,4,5,6,7)\n",
    "v9=value+(33.7,)\n",
    "print(v9)\n"
   ]
  },
  {
   "cell_type": "code",
   "execution_count": 15,
   "id": "5165202a-635d-402c-9322-0702a2237d7e",
   "metadata": {},
   "outputs": [
    {
     "name": "stdin",
     "output_type": "stream",
     "text": [
      " 5788778657\n"
     ]
    },
    {
     "name": "stdout",
     "output_type": "stream",
     "text": [
      "('5', '7', '8', '8', '7', '7', '8', '6', '5', '7')\n"
     ]
    }
   ],
   "source": [
    "#write a python program to get the tuple values from the user and print it.\n",
    "a=tuple(input())\n",
    "print(a)"
   ]
  },
  {
   "cell_type": "code",
   "execution_count": null,
   "id": "fe08c8af-97a7-4b9e-ba84-47016697a363",
   "metadata": {},
   "outputs": [],
   "source": [
    "value=()\n",
    "n=int(input())\n",
    "a=[]\n",
    "for i in range(n):\n",
    "    a.append(int(input()))\n",
    "value=tuple(a)\n",
    "print(value)"
   ]
  },
  {
   "cell_type": "code",
   "execution_count": null,
   "id": "db4eb0b2-cc23-4ae5-b077-3a592d393099",
   "metadata": {},
   "outputs": [],
   "source": [
    "value=()\n",
    "n=int(input())\n",
    "a=[]\n",
    "for i in range(n):\n",
    "    a.append(int(input()))\n",
    "value=tuple(a)\n",
    "print(value)"
   ]
  },
  {
   "cell_type": "code",
   "execution_count": null,
   "id": "99871751-60b5-494e-821d-d851e90607ad",
   "metadata": {},
   "outputs": [],
   "source": []
  }
 ],
 "metadata": {
  "kernelspec": {
   "display_name": "Python 3 (ipykernel)",
   "language": "python",
   "name": "python3"
  },
  "language_info": {
   "codemirror_mode": {
    "name": "ipython",
    "version": 3
   },
   "file_extension": ".py",
   "mimetype": "text/x-python",
   "name": "python",
   "nbconvert_exporter": "python",
   "pygments_lexer": "ipython3",
   "version": "3.12.4"
  }
 },
 "nbformat": 4,
 "nbformat_minor": 5
}
