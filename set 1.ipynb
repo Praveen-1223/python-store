{
 "cells": [
  {
   "cell_type": "code",
   "execution_count": 11,
   "id": "75deab10-6060-45ba-bb42-f25bbbb0492c",
   "metadata": {},
   "outputs": [
    {
     "data": {
      "text/plain": [
       "{1, 2, 3, 3.5, 20, 33, 55}"
      ]
     },
     "execution_count": 11,
     "metadata": {},
     "output_type": "execute_result"
    }
   ],
   "source": [
    "#unordered\n",
    "value={20,3.5,2,33,55,1,3,2}\n",
    "value"
   ]
  },
  {
   "cell_type": "code",
   "execution_count": 5,
   "id": "5c0b4c9b-ec93-4b50-bc51-d4c4c6d1065f",
   "metadata": {},
   "outputs": [
    {
     "data": {
      "text/plain": [
       "dict"
      ]
     },
     "execution_count": 5,
     "metadata": {},
     "output_type": "execute_result"
    }
   ],
   "source": [
    "value={}\n",
    "type(value)"
   ]
  },
  {
   "cell_type": "code",
   "execution_count": 9,
   "id": "07a7e137-3fda-4cf0-b9e2-5aa25baa4de4",
   "metadata": {},
   "outputs": [
    {
     "data": {
      "text/plain": [
       "set"
      ]
     },
     "execution_count": 9,
     "metadata": {},
     "output_type": "execute_result"
    }
   ],
   "source": [
    "value=set()\n",
    "type(value)"
   ]
  },
  {
   "cell_type": "code",
   "execution_count": 13,
   "id": "df7683c3-8cad-4fae-aaa8-0f7f4bcae97c",
   "metadata": {},
   "outputs": [
    {
     "name": "stdout",
     "output_type": "stream",
     "text": [
      "set()\n"
     ]
    }
   ],
   "source": [
    "set1=set()\n",
    "print(set1)"
   ]
  },
  {
   "cell_type": "code",
   "execution_count": 17,
   "id": "4190a59b-5a40-4deb-94e7-8cce58cfaa71",
   "metadata": {},
   "outputs": [
    {
     "data": {
      "text/plain": [
       "{2, 3, 4, 5, 'aa', 'python'}"
      ]
     },
     "execution_count": 17,
     "metadata": {},
     "output_type": "execute_result"
    }
   ],
   "source": [
    "value_set={2,2,4,5,3,4,\"python\",\"aa\"}\n",
    "value_set"
   ]
  },
  {
   "cell_type": "code",
   "execution_count": 29,
   "id": "11d9025b-1ce6-4d71-ae3d-49fb4646e152",
   "metadata": {},
   "outputs": [
    {
     "data": {
      "text/plain": [
       "{33, 55, 66}"
      ]
     },
     "execution_count": 29,
     "metadata": {},
     "output_type": "execute_result"
    }
   ],
   "source": [
    " # deleting the element in the set\n",
    "value_set={2,33,55,66}\n",
    "value_set.remove(2)\n",
    "value_set"
   ]
  },
  {
   "cell_type": "code",
   "execution_count": 31,
   "id": "ef4a956e-9a2a-488a-8947-1cbfb09e5b54",
   "metadata": {},
   "outputs": [
    {
     "data": {
      "text/plain": [
       "{2, 33, 66}"
      ]
     },
     "execution_count": 31,
     "metadata": {},
     "output_type": "execute_result"
    }
   ],
   "source": [
    "value_set={2,33,55,66}\n",
    "value_set.discard(55)\n",
    "value_set"
   ]
  },
  {
   "cell_type": "code",
   "execution_count": 43,
   "id": "65be13c2-1b02-479b-8493-93ea11f15c3f",
   "metadata": {},
   "outputs": [
    {
     "data": {
      "text/plain": [
       "set()"
      ]
     },
     "execution_count": 43,
     "metadata": {},
     "output_type": "execute_result"
    }
   ],
   "source": [
    "value_set={2,33,55,66}\n",
    "value_set.clear()\n",
    "value_set\n"
   ]
  },
  {
   "cell_type": "code",
   "execution_count": 41,
   "id": "3099b197-fcea-4abf-91d9-ac26f42c216e",
   "metadata": {},
   "outputs": [
    {
     "ename": "NameError",
     "evalue": "name 'value_set' is not defined",
     "output_type": "error",
     "traceback": [
      "\u001b[1;31m---------------------------------------------------------------------------\u001b[0m",
      "\u001b[1;31mNameError\u001b[0m                                 Traceback (most recent call last)",
      "Cell \u001b[1;32mIn[41], line 3\u001b[0m\n\u001b[0;32m      1\u001b[0m value_set\u001b[38;5;241m=\u001b[39m{\u001b[38;5;241m2\u001b[39m,\u001b[38;5;241m33\u001b[39m,\u001b[38;5;241m55\u001b[39m,\u001b[38;5;241m66\u001b[39m}\n\u001b[0;32m      2\u001b[0m \u001b[38;5;28;01mdel\u001b[39;00m value_set\n\u001b[1;32m----> 3\u001b[0m value_set\n",
      "\u001b[1;31mNameError\u001b[0m: name 'value_set' is not defined"
     ]
    }
   ],
   "source": [
    "value_set={2,33,55,66}\n",
    "del value_set\n",
    "value_set"
   ]
  },
  {
   "cell_type": "code",
   "execution_count": 29,
   "id": "a89cef3e-d9b0-4697-9624-f9c6fadc65f0",
   "metadata": {},
   "outputs": [
    {
     "name": "stdin",
     "output_type": "stream",
     "text": [
      " 5\n",
      " 777\n",
      " 333\n",
      " 666\n",
      " 222\n",
      " 8888\n"
     ]
    },
    {
     "data": {
      "text/plain": [
       "{222, 333, 666, 777, 8888}"
      ]
     },
     "execution_count": 29,
     "metadata": {},
     "output_type": "execute_result"
    }
   ],
   "source": [
    "value_set=set()\n",
    "n=int(input())\n",
    "for i in range(n):\n",
    "    value_set.add(int(input()))\n",
    "value_set\n"
   ]
  },
  {
   "cell_type": "code",
   "execution_count": 11,
   "id": "0f5627b8-6732-4265-85ab-02439f3162e4",
   "metadata": {},
   "outputs": [
    {
     "name": "stdout",
     "output_type": "stream",
     "text": [
      "66\n",
      "999\n",
      "333\n",
      "9998\n",
      "88\n"
     ]
    }
   ],
   "source": [
    "for i in value_set:\n",
    "    print(i)"
   ]
  },
  {
   "cell_type": "code",
   "execution_count": 25,
   "id": "613cd6ee-b757-4dd1-8ff1-e2fc0db75098",
   "metadata": {},
   "outputs": [
    {
     "name": "stdin",
     "output_type": "stream",
     "text": [
      " 66\n"
     ]
    },
    {
     "data": {
      "text/plain": [
       "False"
      ]
     },
     "execution_count": 25,
     "metadata": {},
     "output_type": "execute_result"
    }
   ],
   "source": [
    "#write a python code to check whether the element got from the user is present in the value_set.\n",
    "\n",
    "value_set={33,88,54,32,11,9}\n",
    "n=int(input())\n",
    "n in value_set\n",
    "   \n",
    "   "
   ]
  },
  {
   "cell_type": "code",
   "execution_count": 41,
   "id": "41733749-517b-4616-9f1f-6ac7f2232ca3",
   "metadata": {},
   "outputs": [
    {
     "name": "stdout",
     "output_type": "stream",
     "text": [
      "{567876, 6776, 778, 6876, 7678, 76687}\n",
      "{6776}\n",
      "{6776}\n"
     ]
    },
    {
     "data": {
      "text/plain": [
       "{778, 6776, 6876, 7678, 76687, 567876}"
      ]
     },
     "execution_count": 41,
     "metadata": {},
     "output_type": "execute_result"
    }
   ],
   "source": [
    "a={6776,7678,6876}\n",
    "b={778,6776,76687,567876}\n",
    "c=a.union(b)\n",
    "print(c)\n",
    "d=a.intersection(b)\n",
    "print(d)\n",
    "common=a&b\n",
    "print(common)\n",
    "fullaa=a|b\n",
    "fullaa"
   ]
  },
  {
   "cell_type": "code",
   "execution_count": 43,
   "id": "10c173e4-ce37-462e-bca4-932f6f15190b",
   "metadata": {},
   "outputs": [
    {
     "data": {
      "text/plain": [
       "{'Apr', 'Feb', 'Jan', 'Jun', 'Mar', 'May'}"
      ]
     },
     "execution_count": 43,
     "metadata": {},
     "output_type": "execute_result"
    }
   ],
   "source": [
    "month1={\"Jan\",\"Feb\",\"Mar\",\"Apr\",\"May\",\"Jun\",\"Aug\",\"Nov\"}\n",
    "month2={\"Jul\",\"Aug\",\"Sept\",\"Oct\",\"Nov\",\"Dec\"}\n",
    "month=month1-month2\n",
    "month"
   ]
  },
  {
   "cell_type": "code",
   "execution_count": null,
   "id": "5a7a58ee-8d3d-433e-abf5-46fa280cc7de",
   "metadata": {},
   "outputs": [],
   "source": []
  }
 ],
 "metadata": {
  "kernelspec": {
   "display_name": "Python 3 (ipykernel)",
   "language": "python",
   "name": "python3"
  },
  "language_info": {
   "codemirror_mode": {
    "name": "ipython",
    "version": 3
   },
   "file_extension": ".py",
   "mimetype": "text/x-python",
   "name": "python",
   "nbconvert_exporter": "python",
   "pygments_lexer": "ipython3",
   "version": "3.12.4"
  }
 },
 "nbformat": 4,
 "nbformat_minor": 5
}
