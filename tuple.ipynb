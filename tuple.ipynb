{
 "cells": [
  {
   "cell_type": "code",
   "execution_count": 1,
   "id": "8411526e-9012-42a1-aa2b-824f26b552b2",
   "metadata": {},
   "outputs": [
    {
     "name": "stdout",
     "output_type": "stream",
     "text": [
      "('hello',)\n",
      "(('hello',),)\n",
      "((('hello',),),)\n"
     ]
    }
   ],
   "source": [
    "#looping in tuple.\n",
    "tuple=(\"hello\")\n",
    "n=3\n",
    "for i in range(int(n)):\n",
    "    tuple=(tuple,)\n",
    "    print(tuple)"
   ]
  },
  {
   "cell_type": "code",
   "execution_count": 7,
   "id": "b4f69083-6edc-4080-a1d0-3042730ab4e8",
   "metadata": {},
   "outputs": [
    {
     "name": "stdout",
     "output_type": "stream",
     "text": [
      "5\n"
     ]
    }
   ],
   "source": [
    "tuple=('developer',5,8.9,'r',8)\n",
    "print(len(tuple))"
   ]
  },
  {
   "cell_type": "code",
   "execution_count": 21,
   "id": "868c9cae-7832-4131-9035-9a348ec435fa",
   "metadata": {},
   "outputs": [
    {
     "name": "stdout",
     "output_type": "stream",
     "text": [
      "89\n",
      "0\n",
      "115\n",
      "[0, 4, 5, 8, 9, 89]\n",
      "True\n",
      "False\n"
     ]
    }
   ],
   "source": [
    "tuple=(9,5,89,4,8,0)\n",
    "print(max(tuple))\n",
    "print(min(tuple))\n",
    "print(sum(tuple))\n",
    "print(sorted(tuple))\n",
    "print(any(tuple))\n",
    "print(all(tuple))"
   ]
  },
  {
   "cell_type": "code",
   "execution_count": 29,
   "id": "24981311-5bfd-445e-b58b-660e1fd7edc9",
   "metadata": {},
   "outputs": [
    {
     "name": "stdout",
     "output_type": "stream",
     "text": [
      "True\n",
      "False\n",
      "False\n",
      "False\n"
     ]
    }
   ],
   "source": [
    "a=(0,1)\n",
    "print(any(a))\n",
    "b=(0,5,)\n",
    "print(all(a))\n",
    "c=()\n",
    "print(any(c))\n",
    "d=()\n",
    "print(any(d))"
   ]
  },
  {
   "cell_type": "code",
   "execution_count": 31,
   "id": "daedba18-74ca-4bcb-9f93-827acfc3011c",
   "metadata": {},
   "outputs": [
    {
     "name": "stdout",
     "output_type": "stream",
     "text": [
      "apple\n",
      "ball\n",
      "computer\n"
     ]
    }
   ],
   "source": [
    "tuple=(\"apple\",\"ball\",\"computer\")\n",
    "for i in tuple:\n",
    "    print(i)"
   ]
  },
  {
   "cell_type": "code",
   "execution_count": 45,
   "id": "48ac0230-6269-4f5a-98aa-6b5bcbb9e077",
   "metadata": {},
   "outputs": [
    {
     "name": "stdout",
     "output_type": "stream",
     "text": [
      "1\n",
      "2\n",
      "0\n",
      "4\n",
      "3\n"
     ]
    }
   ],
   "source": [
    "tuple=(3,7,'s','h',9.5,'s')\n",
    "print(tuple.count(7))\n",
    "print(tuple.count('s'))\n",
    "print(tuple.count(5))\n",
    "print(tuple.index(9.5))\n",
    "print(tuple.index('h'))"
   ]
  },
  {
   "cell_type": "code",
   "execution_count": null,
   "id": "a2688842-11f7-4c76-bb90-c19f829d710c",
   "metadata": {},
   "outputs": [],
   "source": []
  }
 ],
 "metadata": {
  "kernelspec": {
   "display_name": "Python 3 (ipykernel)",
   "language": "python",
   "name": "python3"
  },
  "language_info": {
   "codemirror_mode": {
    "name": "ipython",
    "version": 3
   },
   "file_extension": ".py",
   "mimetype": "text/x-python",
   "name": "python",
   "nbconvert_exporter": "python",
   "pygments_lexer": "ipython3",
   "version": "3.12.4"
  }
 },
 "nbformat": 4,
 "nbformat_minor": 5
}
