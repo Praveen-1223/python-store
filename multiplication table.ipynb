{
 "cells": [
  {
   "cell_type": "code",
   "execution_count": 14,
   "id": "092b8127-0435-430e-a935-b29eb753291f",
   "metadata": {},
   "outputs": [
    {
     "name": "stdin",
     "output_type": "stream",
     "text": [
      " 5\n"
     ]
    },
    {
     "name": "stdout",
     "output_type": "stream",
     "text": [
      "5 * 1 =  5\n",
      "5 * 2 =  5\n",
      "5 * 3 =  5\n",
      "5 * 4 =  5\n",
      "5 * 5 =  5\n",
      "5 * 6 =  5\n",
      "5 * 7 =  5\n",
      "5 * 8 =  5\n",
      "5 * 9 =  5\n",
      "5 * 10 =  5\n"
     ]
    }
   ],
   "source": [
    "n=int(input())\n",
    "i = 1\n",
    "\n",
    "while i <= 10:\n",
    "    print(f\"{n} * {i} = \",n*)\n",
    "    i += 1"
   ]
  },
  {
   "cell_type": "code",
   "execution_count": null,
   "id": "8b1cf60f-89d6-45db-9385-4b21b79f0cf3",
   "metadata": {},
   "outputs": [],
   "source": []
  }
 ],
 "metadata": {
  "kernelspec": {
   "display_name": "Python 3 (ipykernel)",
   "language": "python",
   "name": "python3"
  },
  "language_info": {
   "codemirror_mode": {
    "name": "ipython",
    "version": 3
   },
   "file_extension": ".py",
   "mimetype": "text/x-python",
   "name": "python",
   "nbconvert_exporter": "python",
   "pygments_lexer": "ipython3",
   "version": "3.12.4"
  }
 },
 "nbformat": 4,
 "nbformat_minor": 5
}
