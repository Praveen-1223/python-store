{
 "cells": [
  {
   "cell_type": "code",
   "execution_count": 3,
   "id": "30cbc522-b92d-4856-bee9-c10fcf16f5fa",
   "metadata": {},
   "outputs": [
    {
     "name": "stdout",
     "output_type": "stream",
     "text": [
      "(26, 25, 48)\n",
      "(26, 25, 'hello')\n"
     ]
    }
   ],
   "source": [
    "a=26,25,48\n",
    "print(a)\n",
    "b=26,25,\"hello\"\n",
    "print(b)"
   ]
  },
  {
   "cell_type": "code",
   "execution_count": 13,
   "id": "6ab62be3-dd24-45bf-b92a-a28e378ca680",
   "metadata": {},
   "outputs": [
    {
     "name": "stdout",
     "output_type": "stream",
     "text": [
      "hello\n",
      "<class 'str'>\n",
      "('hello',)\n",
      "<class 'tuple'>\n"
     ]
    }
   ],
   "source": [
    "tuple=(\"hello\")\n",
    "print(tuple)\n",
    "print(type(tuple))\n",
    "tuplee=(\"hello\",)\n",
    "print(tuplee)\n",
    "print(type(tuplee))"
   ]
  },
  {
   "cell_type": "code",
   "execution_count": 15,
   "id": "34e2b7b8-d010-4ecc-8862-78fd86813c5d",
   "metadata": {},
   "outputs": [
    {
     "ename": "TypeError",
     "evalue": "'tuple' object does not support item assignment",
     "output_type": "error",
     "traceback": [
      "\u001b[1;31m---------------------------------------------------------------------------\u001b[0m",
      "\u001b[1;31mTypeError\u001b[0m                                 Traceback (most recent call last)",
      "Cell \u001b[1;32mIn[15], line 3\u001b[0m\n\u001b[0;32m      1\u001b[0m \u001b[38;5;66;03m#immutable\u001b[39;00m\n\u001b[0;32m      2\u001b[0m value\u001b[38;5;241m=\u001b[39m(\u001b[38;5;241m26\u001b[39m,\u001b[38;5;241m45\u001b[39m,\u001b[38;5;124m\"\u001b[39m\u001b[38;5;124mhello\u001b[39m\u001b[38;5;124m\"\u001b[39m)\n\u001b[1;32m----> 3\u001b[0m value[\u001b[38;5;241m1\u001b[39m]\u001b[38;5;241m=\u001b[39m\u001b[38;5;241m7\u001b[39m\n\u001b[0;32m      4\u001b[0m \u001b[38;5;28mprint\u001b[39m(value)\n",
      "\u001b[1;31mTypeError\u001b[0m: 'tuple' object does not support item assignment"
     ]
    }
   ],
   "source": [
    "#immutable\n",
    "value=(26,45,\"hello\")\n",
    "value[1]=7\n",
    "print(value)"
   ]
  },
  {
   "cell_type": "code",
   "execution_count": 17,
   "id": "772abfbe-9fd6-435c-a685-86f093fe9480",
   "metadata": {},
   "outputs": [
    {
     "name": "stdout",
     "output_type": "stream",
     "text": [
      "(26, 45, 'hai', 7, 5.6, 'python')\n"
     ]
    }
   ],
   "source": [
    "#concatenation\n",
    "value1=(26,45,\"hai\")\n",
    "value2=7,5.6,\"python\"\n",
    "print(value1+value2)"
   ]
  },
  {
   "cell_type": "code",
   "execution_count": 19,
   "id": "e89e04f3-dd53-4e61-9c27-e7e5122c9b41",
   "metadata": {},
   "outputs": [
    {
     "name": "stdout",
     "output_type": "stream",
     "text": [
      "((26, 45, 'hai'), (7, 5.6, 'python'))\n"
     ]
    }
   ],
   "source": [
    "#nesting pf tuple\n",
    "value3=value1,value2\n",
    "print(value3)"
   ]
  },
  {
   "cell_type": "code",
   "execution_count": 21,
   "id": "71fb56d1-d92e-44e5-9da2-696b4329bfc4",
   "metadata": {},
   "outputs": [
    {
     "name": "stdout",
     "output_type": "stream",
     "text": [
      "((26, 45, 'hai'), (7, 5.6, 'python'), (26, 45, 'hai'), (7, 5.6, 'python'))\n"
     ]
    }
   ],
   "source": [
    "#repetition in tuples\n",
    "val=value3*2\n",
    "print(val)"
   ]
  },
  {
   "cell_type": "code",
   "execution_count": 23,
   "id": "2746e939-da67-4be8-a1fe-8775ce1fbc2f",
   "metadata": {},
   "outputs": [
    {
     "name": "stdout",
     "output_type": "stream",
     "text": [
      "(7, 5.6, 'python')\n"
     ]
    }
   ],
   "source": [
    "#accessing values in tuple\n",
    "print(val[3])"
   ]
  },
  {
   "cell_type": "code",
   "execution_count": 29,
   "id": "e902854d-655e-43ad-a1e4-7d69fcc27781",
   "metadata": {},
   "outputs": [
    {
     "name": "stdout",
     "output_type": "stream",
     "text": [
      "(88, 35, 26)\n",
      "(24, 35, 67, 88)\n"
     ]
    }
   ],
   "source": [
    "#slicing\n",
    "val1=(26,24,35,67,88)\n",
    "print(val1[::-2])\n",
    "print(val1[1::1])"
   ]
  },
  {
   "cell_type": "code",
   "execution_count": 31,
   "id": "0f1c252a-a70f-4b89-84ec-5dbfe93508cb",
   "metadata": {},
   "outputs": [
    {
     "ename": "TypeError",
     "evalue": "'tuple' object doesn't support item deletion",
     "output_type": "error",
     "traceback": [
      "\u001b[1;31m---------------------------------------------------------------------------\u001b[0m",
      "\u001b[1;31mTypeError\u001b[0m                                 Traceback (most recent call last)",
      "Cell \u001b[1;32mIn[31], line 3\u001b[0m\n\u001b[0;32m      1\u001b[0m \u001b[38;5;66;03m#delete\u001b[39;00m\n\u001b[0;32m      2\u001b[0m akash\u001b[38;5;241m=\u001b[39m(\u001b[38;5;241m1\u001b[39m,\u001b[38;5;241m2\u001b[39m,\u001b[38;5;241m3\u001b[39m,\u001b[38;5;241m4\u001b[39m,\u001b[38;5;241m5\u001b[39m,\u001b[38;5;241m6\u001b[39m,\u001b[38;5;241m7\u001b[39m,\u001b[38;5;241m8\u001b[39m,\u001b[38;5;241m9\u001b[39m,\u001b[38;5;241m0\u001b[39m)\n\u001b[1;32m----> 3\u001b[0m \u001b[38;5;28;01mdel\u001b[39;00m(akash[\u001b[38;5;241m2\u001b[39m])\n",
      "\u001b[1;31mTypeError\u001b[0m: 'tuple' object doesn't support item deletion"
     ]
    }
   ],
   "source": [
    "#delete\n",
    "akash=(1,2,3,4,5,6,7,8,9,0)\n",
    "del(akash[2])#it is immutable.\n"
   ]
  },
  {
   "cell_type": "code",
   "execution_count": null,
   "id": "f127bb08-4795-4dae-8c15-1587ff1a7a13",
   "metadata": {},
   "outputs": [],
   "source": []
  }
 ],
 "metadata": {
  "kernelspec": {
   "display_name": "Python 3 (ipykernel)",
   "language": "python",
   "name": "python3"
  },
  "language_info": {
   "codemirror_mode": {
    "name": "ipython",
    "version": 3
   },
   "file_extension": ".py",
   "mimetype": "text/x-python",
   "name": "python",
   "nbconvert_exporter": "python",
   "pygments_lexer": "ipython3",
   "version": "3.12.4"
  }
 },
 "nbformat": 4,
 "nbformat_minor": 5
}
